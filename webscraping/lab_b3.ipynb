{
 "cells": [
  {
   "cell_type": "code",
   "execution_count": 15,
   "metadata": {},
   "outputs": [
    {
     "name": "stdout",
     "output_type": "stream",
     "text": [
      "<class 'pandas.core.frame.DataFrame'>\n",
      "RangeIndex: 86 entries, 0 to 85\n",
      "Data columns (total 7 columns):\n",
      " #   Column          Non-Null Count  Dtype  \n",
      "---  ------          --------------  -----  \n",
      " 0   Setor           86 non-null     object \n",
      " 1   Código          86 non-null     object \n",
      " 2   Ação            86 non-null     object \n",
      " 3   Tipo            86 non-null     object \n",
      " 4   Qtde. Teórica   86 non-null     int64  \n",
      " 5   Part. (%)       86 non-null     float64\n",
      " 6   Part. (%)Acum.  86 non-null     float64\n",
      "dtypes: float64(2), int64(1), object(4)\n",
      "memory usage: 4.8+ KB\n",
      "None\n"
     ]
    }
   ],
   "source": [
    "import pandas as pd\n",
    "\n",
    "url = '/Users/cripto/Documents/FIAP/tech_challenge/fase_2/webscraping_b3/webscraping/webscraping/webscraping/IBOVDia_24-06-24.csv'\n",
    "df = pd.read_csv(url, sep=';', encoding='ISO-8859-1', skipfooter=2, engine='python', thousands='.', decimal=',', header=1, index_col=False)\n",
    "print (df.info())"
   ]
  }
 ],
 "metadata": {
  "kernelspec": {
   "display_name": "webscraping-o4DB4ZTN-py3.11",
   "language": "python",
   "name": "python3"
  },
  "language_info": {
   "codemirror_mode": {
    "name": "ipython",
    "version": 3
   },
   "file_extension": ".py",
   "mimetype": "text/x-python",
   "name": "python",
   "nbconvert_exporter": "python",
   "pygments_lexer": "ipython3",
   "version": "3.11.8"
  }
 },
 "nbformat": 4,
 "nbformat_minor": 2
}
